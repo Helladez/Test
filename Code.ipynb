{
 "cells": [
  {
   "cell_type": "code",
   "execution_count": 20,
   "id": "f29b0663",
   "metadata": {},
   "outputs": [
    {
     "name": "stdout",
     "output_type": "stream",
     "text": [
      "Addition of 10 and 5 is: 15\n",
      "Subtraction of 10 and 5 is: 5\n",
      "Multiplication of 10 and 5 is: 50\n",
      "Division of 10 by 5 is: 2.0\n",
      "Division of 10 by 0 is: Error: Division by zero is not allowed\n"
     ]
    }
   ],
   "source": [
    "def add(a, b):\n",
    "    return a + b\n",
    "\n",
    "def subtract(a, b):\n",
    "    return a - b\n",
    "\n",
    "def multiply(a, b):\n",
    "    return a * b\n",
    "\n",
    "def divide(a, b):\n",
    "    try:\n",
    "        return a / b\n",
    "    except ZeroDivisionError:\n",
    "        return 'Error: Division by zero is not allowed'\n",
    "\n",
    "# Пример работы\n",
    "num1 = 10\n",
    "num2 = 5\n",
    "\n",
    "print(f'Addition of {num1} and {num2} is: {add(num1, num2)}')\n",
    "print(f'Subtraction of {num1} and {num2} is: {subtract(num1, num2)}')\n",
    "print(f'Multiplication of {num1} and {num2} is: {multiply(num1, num2)}')\n",
    "print(f'Division of {num1} by {num2} is: {divide(num1, num2)}')\n",
    "print(f'Division of {num1} by 0 is: {divide(num1, 0)}')"
   ]
  }
 ],
 "metadata": {
  "kernelspec": {
   "display_name": "base",
   "language": "python",
   "name": "python3"
  },
  "language_info": {
   "codemirror_mode": {
    "name": "ipython",
    "version": 3
   },
   "file_extension": ".py",
   "mimetype": "text/x-python",
   "name": "python",
   "nbconvert_exporter": "python",
   "pygments_lexer": "ipython3",
   "version": "3.9.13"
  }
 },
 "nbformat": 4,
 "nbformat_minor": 5
}
