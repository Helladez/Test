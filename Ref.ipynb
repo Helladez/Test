{
 "cells": [
  {
   "cell_type": "code",
   "execution_count": 1,
   "id": "67f6a478",
   "metadata": {},
   "outputs": [
    {
     "name": "stdout",
     "output_type": "stream",
     "text": [
      "Collecting selenium\n",
      "  Downloading selenium-4.32.0-py3-none-any.whl (9.4 MB)\n",
      "     ---------------------------------------- 9.4/9.4 MB 9.4 MB/s eta 0:00:00\n",
      "Collecting trio~=0.17\n",
      "  Downloading trio-0.30.0-py3-none-any.whl (499 kB)\n",
      "     ------------------------------------- 499.2/499.2 kB 10.4 MB/s eta 0:00:00\n",
      "Collecting typing_extensions~=4.9\n",
      "  Downloading typing_extensions-4.13.2-py3-none-any.whl (45 kB)\n",
      "     ---------------------------------------- 45.8/45.8 kB 2.2 MB/s eta 0:00:00\n",
      "Requirement already satisfied: urllib3[socks]<3,>=1.26 in c:\\users\\admin\\anaconda3\\lib\\site-packages (from selenium) (1.26.11)\n",
      "Requirement already satisfied: certifi>=2021.10.8 in c:\\users\\admin\\anaconda3\\lib\\site-packages (from selenium) (2022.9.14)\n",
      "Collecting trio-websocket~=0.9\n",
      "  Downloading trio_websocket-0.12.2-py3-none-any.whl (21 kB)\n",
      "Collecting websocket-client~=1.8\n",
      "  Downloading websocket_client-1.8.0-py3-none-any.whl (58 kB)\n",
      "     ---------------------------------------- 58.8/58.8 kB ? eta 0:00:00\n",
      "Requirement already satisfied: cffi>=1.14 in c:\\users\\admin\\anaconda3\\lib\\site-packages (from trio~=0.17->selenium) (1.15.1)\n",
      "Collecting sniffio>=1.3.0\n",
      "  Downloading sniffio-1.3.1-py3-none-any.whl (10 kB)\n",
      "Requirement already satisfied: idna in c:\\users\\admin\\anaconda3\\lib\\site-packages (from trio~=0.17->selenium) (3.3)\n",
      "Collecting outcome\n",
      "  Downloading outcome-1.3.0.post0-py2.py3-none-any.whl (10 kB)\n",
      "Collecting exceptiongroup\n",
      "  Downloading exceptiongroup-1.3.0-py3-none-any.whl (16 kB)\n",
      "Collecting attrs>=23.2.0\n",
      "  Downloading attrs-25.3.0-py3-none-any.whl (63 kB)\n",
      "     ---------------------------------------- 63.8/63.8 kB ? eta 0:00:00\n",
      "Requirement already satisfied: sortedcontainers in c:\\users\\admin\\anaconda3\\lib\\site-packages (from trio~=0.17->selenium) (2.4.0)\n",
      "Collecting wsproto>=0.14\n",
      "  Downloading wsproto-1.2.0-py3-none-any.whl (24 kB)\n",
      "Requirement already satisfied: PySocks!=1.5.7,<2.0,>=1.5.6 in c:\\users\\admin\\anaconda3\\lib\\site-packages (from urllib3[socks]<3,>=1.26->selenium) (1.7.1)\n",
      "Requirement already satisfied: pycparser in c:\\users\\admin\\anaconda3\\lib\\site-packages (from cffi>=1.14->trio~=0.17->selenium) (2.21)\n",
      "Collecting h11<1,>=0.9.0\n",
      "  Downloading h11-0.16.0-py3-none-any.whl (37 kB)\n",
      "Installing collected packages: websocket-client, typing_extensions, sniffio, h11, attrs, wsproto, outcome, exceptiongroup, trio, trio-websocket, selenium\n",
      "  Attempting uninstall: websocket-client\n",
      "    Found existing installation: websocket-client 0.58.0\n",
      "    Uninstalling websocket-client-0.58.0:\n",
      "      Successfully uninstalled websocket-client-0.58.0\n",
      "  Attempting uninstall: typing_extensions\n",
      "    Found existing installation: typing_extensions 4.3.0\n",
      "    Uninstalling typing_extensions-4.3.0:\n",
      "      Successfully uninstalled typing_extensions-4.3.0\n",
      "  Attempting uninstall: sniffio\n",
      "    Found existing installation: sniffio 1.2.0\n",
      "    Uninstalling sniffio-1.2.0:\n",
      "      Successfully uninstalled sniffio-1.2.0\n",
      "  Attempting uninstall: attrs\n",
      "    Found existing installation: attrs 21.4.0\n",
      "    Uninstalling attrs-21.4.0:\n",
      "      Successfully uninstalled attrs-21.4.0\n",
      "Successfully installed attrs-25.3.0 exceptiongroup-1.3.0 h11-0.16.0 outcome-1.3.0.post0 selenium-4.32.0 sniffio-1.3.1 trio-0.30.0 trio-websocket-0.12.2 typing_extensions-4.13.2 websocket-client-1.8.0 wsproto-1.2.0\n",
      "Note: you may need to restart the kernel to use updated packages.\n"
     ]
    }
   ],
   "source": [
    "pip install -U selenium"
   ]
  },
  {
   "cell_type": "code",
   "execution_count": 6,
   "id": "ea3f53bb",
   "metadata": {},
   "outputs": [
    {
     "name": "stdout",
     "output_type": "stream",
     "text": [
      "Заголовок страницы содержит слово 'Example'\n",
      "Перенаправление успешно. Текущий URL: https://www.iana.org/help/example-domains\n"
     ]
    }
   ],
   "source": [
    "from selenium import webdriver\n",
    "from selenium.webdriver.common.by import By\n",
    "from selenium.webdriver.support.ui import WebDriverWait\n",
    "from selenium.webdriver.support import expected_conditions as EC\n",
    "\n",
    "# Настройка драйвера (убедитесь, что у вас установлен соответствующий драйвер для вашего браузера)\n",
    "driver = webdriver.Chrome()  # Или Firefox(), Safari() и т.д.\n",
    "\n",
    "try:\n",
    "    # 1. Открыть веб-страницу https://example.com\n",
    "    driver.get(\"https://example.com\")\n",
    "    \n",
    "    # 2. Проверить, что заголовок страницы содержит слово \"Example\"\n",
    "    assert \"Example\" in driver.title\n",
    "    print(\"Заголовок страницы содержит слово 'Example'\")\n",
    "    \n",
    "    # 3. Найти элемент с текстом \"More information\" и кликнуть по нему\n",
    "    # Ждем, пока элемент станет кликабельным (явное ожидание)\n",
    "    more_info_link = WebDriverWait(driver, 10).until(\n",
    "        EC.element_to_be_clickable((By.LINK_TEXT, \"More information...\"))\n",
    "    )\n",
    "    more_info_link.click()\n",
    "    \n",
    "    # 4. Проверить перенаправление на нужный URL\n",
    "    WebDriverWait(driver, 10).until(\n",
    "        EC.url_to_be(\"https://www.iana.org/help/example-domains\")\n",
    "    )\n",
    "    print(f\"Перенаправление успешно. Текущий URL: {driver.current_url}\")\n",
    "    \n",
    "except Exception as e:\n",
    "    print(f\"Произошла ошибка: {e}\")\n",
    "    \n",
    "finally:\n",
    "    # Закрыть браузер\n",
    "    driver.quit()"
   ]
  }
 ],
 "metadata": {
  "kernelspec": {
   "display_name": "base",
   "language": "python",
   "name": "python3"
  },
  "language_info": {
   "codemirror_mode": {
    "name": "ipython",
    "version": 3
   },
   "file_extension": ".py",
   "mimetype": "text/x-python",
   "name": "python",
   "nbconvert_exporter": "python",
   "pygments_lexer": "ipython3",
   "version": "3.9.13"
  }
 },
 "nbformat": 4,
 "nbformat_minor": 5
}
